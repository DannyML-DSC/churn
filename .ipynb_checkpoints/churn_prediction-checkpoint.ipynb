{
 "cells": [
  {
   "cell_type": "code",
   "execution_count": 1,
   "metadata": {},
   "outputs": [],
   "source": [
    "#import some necessary librairies\n",
    "\n",
    "import numpy as np # linear algebra\n",
    "import pandas as pd # data processing, CSV file I/O (e.g. pd.read_csv)\n",
    "%matplotlib inline\n",
    "import matplotlib.pyplot as plt  # Matlab-style plotting\n",
    "from scipy import stats\n",
    "from scipy.stats import norm, skew #for some statistics\n",
    "import seaborn as sns\n",
    "color = sns.color_palette()\n",
    "sns.set_style('darkgrid')\n",
    "import warnings\n",
    "def ignore_warn(*args, **kwargs):\n",
    "    pass\n",
    "warnings.warn = ignore_warn #ignore warning (from sklearn and seaborn)\n",
    "\n"
   ]
  },
  {
   "cell_type": "code",
   "execution_count": 2,
   "metadata": {},
   "outputs": [],
   "source": [
    "train = pd.read_csv(\"//root//Downloads//churn//TRAIN.csv\")\n",
    "test = pd.read_csv(\"//root//Downloads//churn//TEST.csv\")"
   ]
  },
  {
   "cell_type": "code",
   "execution_count": 3,
   "metadata": {},
   "outputs": [
    {
     "data": {
      "text/html": [
       "<div>\n",
       "<style scoped>\n",
       "    .dataframe tbody tr th:only-of-type {\n",
       "        vertical-align: middle;\n",
       "    }\n",
       "\n",
       "    .dataframe tbody tr th {\n",
       "        vertical-align: top;\n",
       "    }\n",
       "\n",
       "    .dataframe thead th {\n",
       "        text-align: right;\n",
       "    }\n",
       "</style>\n",
       "<table border=\"1\" class=\"dataframe\">\n",
       "  <thead>\n",
       "    <tr style=\"text-align: right;\">\n",
       "      <th></th>\n",
       "      <th>Customer ID</th>\n",
       "      <th>network_age</th>\n",
       "      <th>Customer tenure in month</th>\n",
       "      <th>Total Spend in Months 1 and 2 of 2017</th>\n",
       "      <th>Total SMS Spend</th>\n",
       "      <th>Total Data Spend</th>\n",
       "      <th>Total Data Consumption</th>\n",
       "      <th>Total Unique Calls</th>\n",
       "      <th>Total Onnet spend</th>\n",
       "      <th>Total Offnet spend</th>\n",
       "      <th>Total Call centre complaint calls</th>\n",
       "      <th>Network type subscription in Month 1</th>\n",
       "      <th>Network type subscription in Month 2</th>\n",
       "      <th>Most Loved Competitor network in in Month 1</th>\n",
       "      <th>Most Loved Competitor network in in Month 2</th>\n",
       "      <th>Churn Status</th>\n",
       "    </tr>\n",
       "  </thead>\n",
       "  <tbody>\n",
       "    <tr>\n",
       "      <th>0</th>\n",
       "      <td>ADF0039</td>\n",
       "      <td>123.0</td>\n",
       "      <td>4.10</td>\n",
       "      <td>76.7140</td>\n",
       "      <td>0.00</td>\n",
       "      <td>1.25</td>\n",
       "      <td>1.4951</td>\n",
       "      <td>14.0</td>\n",
       "      <td>564.0</td>\n",
       "      <td>6408.0</td>\n",
       "      <td>2.0</td>\n",
       "      <td>2G</td>\n",
       "      <td>2G</td>\n",
       "      <td>Uxaa</td>\n",
       "      <td>Mango</td>\n",
       "      <td>0.0</td>\n",
       "    </tr>\n",
       "    <tr>\n",
       "      <th>1</th>\n",
       "      <td>ADF0041</td>\n",
       "      <td>1316.0</td>\n",
       "      <td>43.87</td>\n",
       "      <td>98.8904</td>\n",
       "      <td>4.14</td>\n",
       "      <td>1.25</td>\n",
       "      <td>1.0244</td>\n",
       "      <td>27.0</td>\n",
       "      <td>1626.0</td>\n",
       "      <td>4373.0</td>\n",
       "      <td>1.0</td>\n",
       "      <td>2G</td>\n",
       "      <td>2G</td>\n",
       "      <td>Uxaa</td>\n",
       "      <td>Mango</td>\n",
       "      <td>0.0</td>\n",
       "    </tr>\n",
       "    <tr>\n",
       "      <th>2</th>\n",
       "      <td>ADF0051</td>\n",
       "      <td>2385.0</td>\n",
       "      <td>79.50</td>\n",
       "      <td>372.6300</td>\n",
       "      <td>3.51</td>\n",
       "      <td>1.25</td>\n",
       "      <td>6.0898</td>\n",
       "      <td>119.0</td>\n",
       "      <td>10411.0</td>\n",
       "      <td>22039.0</td>\n",
       "      <td>1.0</td>\n",
       "      <td>2G</td>\n",
       "      <td>2G</td>\n",
       "      <td>Weematel</td>\n",
       "      <td>Mango</td>\n",
       "      <td>0.0</td>\n",
       "    </tr>\n",
       "    <tr>\n",
       "      <th>3</th>\n",
       "      <td>ADF0059</td>\n",
       "      <td>1614.0</td>\n",
       "      <td>53.80</td>\n",
       "      <td>530.2000</td>\n",
       "      <td>6.85</td>\n",
       "      <td>1.25</td>\n",
       "      <td>3.3447</td>\n",
       "      <td>69.0</td>\n",
       "      <td>6822.0</td>\n",
       "      <td>6274.0</td>\n",
       "      <td>1.0</td>\n",
       "      <td>2G</td>\n",
       "      <td>2G</td>\n",
       "      <td>0</td>\n",
       "      <td>Mango</td>\n",
       "      <td>0.0</td>\n",
       "    </tr>\n",
       "    <tr>\n",
       "      <th>4</th>\n",
       "      <td>ADF0060</td>\n",
       "      <td>2175.0</td>\n",
       "      <td>72.50</td>\n",
       "      <td>554.1300</td>\n",
       "      <td>6.99</td>\n",
       "      <td>153.75</td>\n",
       "      <td>673204.0342</td>\n",
       "      <td>33.0</td>\n",
       "      <td>3387.0</td>\n",
       "      <td>7241.0</td>\n",
       "      <td>1.0</td>\n",
       "      <td>2G</td>\n",
       "      <td>3G</td>\n",
       "      <td>Weematel</td>\n",
       "      <td>Mango</td>\n",
       "      <td>0.0</td>\n",
       "    </tr>\n",
       "  </tbody>\n",
       "</table>\n",
       "</div>"
      ],
      "text/plain": [
       "  Customer ID  network_age  Customer tenure in month  \\\n",
       "0     ADF0039        123.0                      4.10   \n",
       "1     ADF0041       1316.0                     43.87   \n",
       "2     ADF0051       2385.0                     79.50   \n",
       "3     ADF0059       1614.0                     53.80   \n",
       "4     ADF0060       2175.0                     72.50   \n",
       "\n",
       "   Total Spend in Months 1 and 2 of 2017  Total SMS Spend  Total Data Spend  \\\n",
       "0                                76.7140             0.00              1.25   \n",
       "1                                98.8904             4.14              1.25   \n",
       "2                               372.6300             3.51              1.25   \n",
       "3                               530.2000             6.85              1.25   \n",
       "4                               554.1300             6.99            153.75   \n",
       "\n",
       "   Total Data Consumption  Total Unique Calls  Total Onnet spend   \\\n",
       "0                  1.4951                14.0               564.0   \n",
       "1                  1.0244                27.0              1626.0   \n",
       "2                  6.0898               119.0             10411.0   \n",
       "3                  3.3447                69.0              6822.0   \n",
       "4             673204.0342                33.0              3387.0   \n",
       "\n",
       "   Total Offnet spend  Total Call centre complaint calls  \\\n",
       "0              6408.0                                2.0   \n",
       "1              4373.0                                1.0   \n",
       "2             22039.0                                1.0   \n",
       "3              6274.0                                1.0   \n",
       "4              7241.0                                1.0   \n",
       "\n",
       "  Network type subscription in Month 1 Network type subscription in Month 2  \\\n",
       "0                                   2G                                   2G   \n",
       "1                                   2G                                   2G   \n",
       "2                                   2G                                   2G   \n",
       "3                                   2G                                   2G   \n",
       "4                                   2G                                   3G   \n",
       "\n",
       "  Most Loved Competitor network in in Month 1  \\\n",
       "0                                        Uxaa   \n",
       "1                                        Uxaa   \n",
       "2                                    Weematel   \n",
       "3                                           0   \n",
       "4                                    Weematel   \n",
       "\n",
       "  Most Loved Competitor network in in Month 2  Churn Status  \n",
       "0                                       Mango           0.0  \n",
       "1                                       Mango           0.0  \n",
       "2                                       Mango           0.0  \n",
       "3                                       Mango           0.0  \n",
       "4                                       Mango           0.0  "
      ]
     },
     "execution_count": 3,
     "metadata": {},
     "output_type": "execute_result"
    }
   ],
   "source": [
    "##display the first five rows of the train dataset.\n",
    "train.head(5)"
   ]
  },
  {
   "cell_type": "code",
   "execution_count": 4,
   "metadata": {},
   "outputs": [
    {
     "data": {
      "text/html": [
       "<div>\n",
       "<style scoped>\n",
       "    .dataframe tbody tr th:only-of-type {\n",
       "        vertical-align: middle;\n",
       "    }\n",
       "\n",
       "    .dataframe tbody tr th {\n",
       "        vertical-align: top;\n",
       "    }\n",
       "\n",
       "    .dataframe thead th {\n",
       "        text-align: right;\n",
       "    }\n",
       "</style>\n",
       "<table border=\"1\" class=\"dataframe\">\n",
       "  <thead>\n",
       "    <tr style=\"text-align: right;\">\n",
       "      <th></th>\n",
       "      <th>Customer ID</th>\n",
       "      <th>network_age</th>\n",
       "      <th>Customer tenure in month</th>\n",
       "      <th>Total Spend in Months 1 and 2 of 2017</th>\n",
       "      <th>Total SMS Spend</th>\n",
       "      <th>Total Data Spend</th>\n",
       "      <th>Total Data Consumption</th>\n",
       "      <th>Total Unique Calls</th>\n",
       "      <th>Total Onnet spend</th>\n",
       "      <th>Total Offnet spend</th>\n",
       "      <th>Total Call centre complaint calls</th>\n",
       "      <th>Network type subscription in Month 1</th>\n",
       "      <th>Network type subscription in Month 2</th>\n",
       "      <th>Most Loved Competitor network in in Month 1</th>\n",
       "      <th>Most Loved Competitor network in in Month 2</th>\n",
       "    </tr>\n",
       "  </thead>\n",
       "  <tbody>\n",
       "    <tr>\n",
       "      <th>0</th>\n",
       "      <td>ADF0001</td>\n",
       "      <td>1012</td>\n",
       "      <td>33.733333</td>\n",
       "      <td>1560.1156</td>\n",
       "      <td>14.04</td>\n",
       "      <td>226.3</td>\n",
       "      <td>3.126093e+06</td>\n",
       "      <td>64</td>\n",
       "      <td>14503</td>\n",
       "      <td>12402</td>\n",
       "      <td>1</td>\n",
       "      <td>3G</td>\n",
       "      <td>3G</td>\n",
       "      <td>Weematel</td>\n",
       "      <td>Mango</td>\n",
       "    </tr>\n",
       "    <tr>\n",
       "      <th>1</th>\n",
       "      <td>ADF0002</td>\n",
       "      <td>137</td>\n",
       "      <td>4.566667</td>\n",
       "      <td>1705.8368</td>\n",
       "      <td>73.63</td>\n",
       "      <td>5.0</td>\n",
       "      <td>1.628809e+02</td>\n",
       "      <td>515</td>\n",
       "      <td>29832</td>\n",
       "      <td>88953</td>\n",
       "      <td>9</td>\n",
       "      <td>3G</td>\n",
       "      <td>3G</td>\n",
       "      <td>ToCall</td>\n",
       "      <td>Mango</td>\n",
       "    </tr>\n",
       "    <tr>\n",
       "      <th>2</th>\n",
       "      <td>ADF0003</td>\n",
       "      <td>202</td>\n",
       "      <td>6.733333</td>\n",
       "      <td>1720.3008</td>\n",
       "      <td>4.36</td>\n",
       "      <td>245.0</td>\n",
       "      <td>3.334607e+06</td>\n",
       "      <td>163</td>\n",
       "      <td>228</td>\n",
       "      <td>1495</td>\n",
       "      <td>1</td>\n",
       "      <td>3G</td>\n",
       "      <td>3G</td>\n",
       "      <td>ToCall</td>\n",
       "      <td>Mango</td>\n",
       "    </tr>\n",
       "    <tr>\n",
       "      <th>3</th>\n",
       "      <td>ADF0004</td>\n",
       "      <td>165</td>\n",
       "      <td>5.500000</td>\n",
       "      <td>1732.2800</td>\n",
       "      <td>0.00</td>\n",
       "      <td>12.5</td>\n",
       "      <td>6.682924e+05</td>\n",
       "      <td>484</td>\n",
       "      <td>0</td>\n",
       "      <td>71928</td>\n",
       "      <td>2</td>\n",
       "      <td>3G</td>\n",
       "      <td>3G</td>\n",
       "      <td>Uxaa</td>\n",
       "      <td>Mango</td>\n",
       "    </tr>\n",
       "    <tr>\n",
       "      <th>4</th>\n",
       "      <td>ADF0005</td>\n",
       "      <td>759</td>\n",
       "      <td>25.300000</td>\n",
       "      <td>1873.0600</td>\n",
       "      <td>69.57</td>\n",
       "      <td>412.5</td>\n",
       "      <td>6.666975e+06</td>\n",
       "      <td>64</td>\n",
       "      <td>7616</td>\n",
       "      <td>20753</td>\n",
       "      <td>2</td>\n",
       "      <td>3G</td>\n",
       "      <td>3G</td>\n",
       "      <td>Mango</td>\n",
       "      <td>Mango</td>\n",
       "    </tr>\n",
       "  </tbody>\n",
       "</table>\n",
       "</div>"
      ],
      "text/plain": [
       "  Customer ID  network_age  Customer tenure in month  \\\n",
       "0     ADF0001         1012                 33.733333   \n",
       "1     ADF0002          137                  4.566667   \n",
       "2     ADF0003          202                  6.733333   \n",
       "3     ADF0004          165                  5.500000   \n",
       "4     ADF0005          759                 25.300000   \n",
       "\n",
       "   Total Spend in Months 1 and 2 of 2017  Total SMS Spend  Total Data Spend  \\\n",
       "0                              1560.1156            14.04             226.3   \n",
       "1                              1705.8368            73.63               5.0   \n",
       "2                              1720.3008             4.36             245.0   \n",
       "3                              1732.2800             0.00              12.5   \n",
       "4                              1873.0600            69.57             412.5   \n",
       "\n",
       "   Total Data Consumption  Total Unique Calls  Total Onnet spend   \\\n",
       "0            3.126093e+06                  64               14503   \n",
       "1            1.628809e+02                 515               29832   \n",
       "2            3.334607e+06                 163                 228   \n",
       "3            6.682924e+05                 484                   0   \n",
       "4            6.666975e+06                  64                7616   \n",
       "\n",
       "   Total Offnet spend  Total Call centre complaint calls  \\\n",
       "0               12402                                  1   \n",
       "1               88953                                  9   \n",
       "2                1495                                  1   \n",
       "3               71928                                  2   \n",
       "4               20753                                  2   \n",
       "\n",
       "  Network type subscription in Month 1 Network type subscription in Month 2  \\\n",
       "0                                   3G                                   3G   \n",
       "1                                   3G                                   3G   \n",
       "2                                   3G                                   3G   \n",
       "3                                   3G                                   3G   \n",
       "4                                   3G                                   3G   \n",
       "\n",
       "  Most Loved Competitor network in in Month 1  \\\n",
       "0                                    Weematel   \n",
       "1                                      ToCall   \n",
       "2                                      ToCall   \n",
       "3                                        Uxaa   \n",
       "4                                       Mango   \n",
       "\n",
       "  Most Loved Competitor network in in Month 2  \n",
       "0                                       Mango  \n",
       "1                                       Mango  \n",
       "2                                       Mango  \n",
       "3                                       Mango  \n",
       "4                                       Mango  "
      ]
     },
     "execution_count": 4,
     "metadata": {},
     "output_type": "execute_result"
    }
   ],
   "source": [
    "##display the first five rows of the test dataset.\n",
    "test.head(5)"
   ]
  },
  {
   "cell_type": "code",
   "execution_count": 5,
   "metadata": {},
   "outputs": [
    {
     "name": "stdout",
     "output_type": "stream",
     "text": [
      "Train size is (1401, 16)\n",
      "Test size is (600, 15)\n"
     ]
    }
   ],
   "source": [
    "#Lets check the number of features in our train and test set\n",
    "print('Train size is {}'.format(train.shape))\n",
    "print('Test size is {}'.format(test.shape))"
   ]
  },
  {
   "cell_type": "code",
   "execution_count": 6,
   "metadata": {},
   "outputs": [
    {
     "data": {
      "image/png": "[encoded data removed]",
      "text/plain": [
       "<Figure size 1008x864 with 2 Axes>"
      ]
     },
     "metadata": {},
     "output_type": "display_data"
    }
   ],
   "source": [
    "\n",
    "#correlation heatmap of dataset\n",
    "def correlation_heatmap(df):\n",
    "    _ , ax = plt.subplots(figsize =(14, 12))\n",
    "    colormap = sns.diverging_palette(220, 10, as_cmap = True)\n",
    "    \n",
    "    _ = sns.heatmap(\n",
    "        df.corr(), \n",
    "        cmap = colormap,\n",
    "        square=True, \n",
    "        cbar_kws={'shrink':.9 }, \n",
    "        ax=ax,\n",
    "        annot=True, \n",
    "        linewidths=0.1,vmax=1.0, linecolor='white',\n",
    "        annot_kws={'fontsize':12 }\n",
    "    )\n",
    "    \n",
    "    plt.title('Pearson Correlation of Features', y=1.05, size=15)\n",
    "\n",
    "correlation_heatmap(train)"
   ]
  },
  {
   "cell_type": "code",
   "execution_count": 7,
   "metadata": {},
   "outputs": [
    {
     "name": "stdout",
     "output_type": "stream",
     "text": [
      "Train size after dropping columns is (1401, 8)\n",
      "Test size after dropping columns  is (600, 7)\n"
     ]
    }
   ],
   "source": [
    "#we'll drop some columns as they are unneccessary in the prediction process\n",
    "id_cols = ['Total Call centre complaint calls','Total Offnet spend', 'Most Loved Competitor network in in Month 1','Most Loved Competitor network in in Month 2' ]\n",
    "train.drop(id_cols, axis=1, inplace=True)\n",
    "test.drop(id_cols, axis=1, inplace=True)\n",
    "\n",
    "\n",
    "train.drop(columns='Total Onnet spend ', axis = 1, inplace = True)\n",
    "test.drop(columns='Total Onnet spend ', axis = 1, inplace = True)\n",
    "cols = ['Total Data Spend','Network type subscription in Month 1','Network type subscription in Month 2']\n",
    "train.drop(cols, axis =1, inplace = True)\n",
    "test.drop(cols, axis=1, inplace = True)\n",
    "\n",
    "print('Train size after dropping columns is {}'.format(train.shape))\n",
    "print('Test size after dropping columns  is {}'.format(test.shape))"
   ]
  },
  {
   "cell_type": "code",
   "execution_count": 8,
   "metadata": {},
   "outputs": [
    {
     "data": {
      "text/plain": [
       "Customer ID                              1\n",
       "network_age                              1\n",
       "Customer tenure in month                 1\n",
       "Total Spend in Months 1 and 2 of 2017    1\n",
       "Total SMS Spend                          1\n",
       "Total Data Consumption                   1\n",
       "Total Unique Calls                       1\n",
       "Churn Status                             1\n",
       "dtype: int64"
      ]
     },
     "execution_count": 8,
     "metadata": {},
     "output_type": "execute_result"
    }
   ],
   "source": [
    "train.isnull().sum()"
   ]
  },
  {
   "cell_type": "code",
   "execution_count": 9,
   "metadata": {},
   "outputs": [
    {
     "data": {
      "text/plain": [
       "Customer ID                              0\n",
       "network_age                              0\n",
       "Customer tenure in month                 0\n",
       "Total Spend in Months 1 and 2 of 2017    0\n",
       "Total SMS Spend                          0\n",
       "Total Data Consumption                   0\n",
       "Total Unique Calls                       0\n",
       "dtype: int64"
      ]
     },
     "execution_count": 9,
     "metadata": {},
     "output_type": "execute_result"
    }
   ],
   "source": [
    "test.isnull().sum()"
   ]
  },
  {
   "cell_type": "code",
   "execution_count": 10,
   "metadata": {},
   "outputs": [],
   "source": [
    "train['Churn Status'].fillna(np.max(train['Churn Status']), inplace = True)\n",
    "train['Total Unique Calls'].fillna(np.mean(train['Total Unique Calls']), inplace = True)\n",
    "train['Total Data Consumption'].fillna(np.mean(train['Total Data Consumption']), inplace = True)\n",
    "train['Total SMS Spend'].fillna(np.mean(train['Total SMS Spend']), inplace = True)\n",
    "train['Total Spend in Months 1 and 2 of 2017'].fillna(np.mean(train['Total Spend in Months 1 and 2 of 2017']), inplace = True)\n",
    "train['Customer tenure in month'].fillna(np.mean(train['Customer tenure in month']), inplace = True)\n",
    "train['network_age'].fillna(np.mean(train['network_age']), inplace = True)\n",
    "train['Customer ID'].fillna('ADF1983', inplace = True)\n",
    "\n",
    "\n",
    "\n",
    "\n",
    "\n",
    "\n"
   ]
  },
  {
   "cell_type": "code",
   "execution_count": 11,
   "metadata": {},
   "outputs": [
    {
     "data": {
      "image/png": "[encoded data removed]",
      "text/plain": [
       "<Figure size 432x288 with 1 Axes>"
      ]
     },
     "metadata": {},
     "output_type": "display_data"
    },
    {
     "data": {
      "image/png": "[encoded data removed]",
      "text/plain": [
       "<Figure size 432x288 with 1 Axes>"
      ]
     },
     "metadata": {},
     "output_type": "display_data"
    }
   ],
   "source": [
    "#Check the distribution\n",
    "sns.distplot(train['Churn Status'], fit=norm)\n",
    "fig = plt.figure()\n",
    "res = stats.probplot(train['Churn Status'], plot=plt)"
   ]
  },
  {
   "cell_type": "code",
   "execution_count": 12,
   "metadata": {},
   "outputs": [
    {
     "name": "stdout",
     "output_type": "stream",
     "text": [
      "Total data size is : (2001, 7)\n"
     ]
    }
   ],
   "source": [
    "#concatenate train and test sets\n",
    "ntrain = train.shape[0]\n",
    "ntest = test.shape[0]\n",
    "\n",
    "#get target variable\n",
    "y_train = train['Churn Status'].values\n",
    "\n",
    "all_data = pd.concat((train,test)).reset_index(drop=True)\n",
    "#drop target variable\n",
    "all_data.drop(['Churn Status'], axis=1, inplace=True)\n",
    "print(\"Total data size is : {}\".format(all_data.shape))"
   ]
  },
  {
   "cell_type": "code",
   "execution_count": 13,
   "metadata": {},
   "outputs": [
    {
     "data": {
      "text/html": [
       "<div>\n",
       "<style scoped>\n",
       "    .dataframe tbody tr th:only-of-type {\n",
       "        vertical-align: middle;\n",
       "    }\n",
       "\n",
       "    .dataframe tbody tr th {\n",
       "        vertical-align: top;\n",
       "    }\n",
       "\n",
       "    .dataframe thead th {\n",
       "        text-align: right;\n",
       "    }\n",
       "</style>\n",
       "<table border=\"1\" class=\"dataframe\">\n",
       "  <thead>\n",
       "    <tr style=\"text-align: right;\">\n",
       "      <th></th>\n",
       "      <th>Missing Percentage</th>\n",
       "    </tr>\n",
       "  </thead>\n",
       "  <tbody>\n",
       "  </tbody>\n",
       "</table>\n",
       "</div>"
      ],
      "text/plain": [
       "Empty DataFrame\n",
       "Columns: [Missing Percentage]\n",
       "Index: []"
      ]
     },
     "execution_count": 13,
     "metadata": {},
     "output_type": "execute_result"
    }
   ],
   "source": [
    "#Get percentage of missing data\n",
    "all_data_nan = (all_data.isnull().sum() / len(all_data)) * 100\n",
    "all_data_nan = all_data_nan.drop(all_data_nan[all_data_nan == 0].index).sort_values(ascending=False)\n",
    "\n",
    "missing_data = pd.DataFrame({'Missing Percentage' : all_data_nan})\n",
    "missing_data"
   ]
  },
  {
   "cell_type": "code",
   "execution_count": 14,
   "metadata": {},
   "outputs": [
    {
     "data": {
      "text/plain": [
       "Customer ID                              0\n",
       "Customer tenure in month                 0\n",
       "Total Data Consumption                   0\n",
       "Total SMS Spend                          0\n",
       "Total Spend in Months 1 and 2 of 2017    0\n",
       "Total Unique Calls                       0\n",
       "network_age                              0\n",
       "dtype: int64"
      ]
     },
     "execution_count": 14,
     "metadata": {},
     "output_type": "execute_result"
    }
   ],
   "source": [
    "all_data.isnull().sum()"
   ]
  },
  {
   "cell_type": "code",
   "execution_count": 15,
   "metadata": {},
   "outputs": [
    {
     "data": {
      "text/html": [
       "<div>\n",
       "<style scoped>\n",
       "    .dataframe tbody tr th:only-of-type {\n",
       "        vertical-align: middle;\n",
       "    }\n",
       "\n",
       "    .dataframe tbody tr th {\n",
       "        vertical-align: top;\n",
       "    }\n",
       "\n",
       "    .dataframe thead th {\n",
       "        text-align: right;\n",
       "    }\n",
       "</style>\n",
       "<table border=\"1\" class=\"dataframe\">\n",
       "  <thead>\n",
       "    <tr style=\"text-align: right;\">\n",
       "      <th></th>\n",
       "      <th>Customer ID</th>\n",
       "      <th>Customer tenure in month</th>\n",
       "      <th>Total Data Consumption</th>\n",
       "      <th>Total SMS Spend</th>\n",
       "      <th>Total Spend in Months 1 and 2 of 2017</th>\n",
       "      <th>Total Unique Calls</th>\n",
       "      <th>network_age</th>\n",
       "    </tr>\n",
       "  </thead>\n",
       "  <tbody>\n",
       "    <tr>\n",
       "      <th>0</th>\n",
       "      <td>ADF0039</td>\n",
       "      <td>4.10</td>\n",
       "      <td>1.4951</td>\n",
       "      <td>0.00</td>\n",
       "      <td>76.7140</td>\n",
       "      <td>14.0</td>\n",
       "      <td>123.0</td>\n",
       "    </tr>\n",
       "    <tr>\n",
       "      <th>1</th>\n",
       "      <td>ADF0041</td>\n",
       "      <td>43.87</td>\n",
       "      <td>1.0244</td>\n",
       "      <td>4.14</td>\n",
       "      <td>98.8904</td>\n",
       "      <td>27.0</td>\n",
       "      <td>1316.0</td>\n",
       "    </tr>\n",
       "    <tr>\n",
       "      <th>2</th>\n",
       "      <td>ADF0051</td>\n",
       "      <td>79.50</td>\n",
       "      <td>6.0898</td>\n",
       "      <td>3.51</td>\n",
       "      <td>372.6300</td>\n",
       "      <td>119.0</td>\n",
       "      <td>2385.0</td>\n",
       "    </tr>\n",
       "    <tr>\n",
       "      <th>3</th>\n",
       "      <td>ADF0059</td>\n",
       "      <td>53.80</td>\n",
       "      <td>3.3447</td>\n",
       "      <td>6.85</td>\n",
       "      <td>530.2000</td>\n",
       "      <td>69.0</td>\n",
       "      <td>1614.0</td>\n",
       "    </tr>\n",
       "    <tr>\n",
       "      <th>4</th>\n",
       "      <td>ADF0060</td>\n",
       "      <td>72.50</td>\n",
       "      <td>673204.0342</td>\n",
       "      <td>6.99</td>\n",
       "      <td>554.1300</td>\n",
       "      <td>33.0</td>\n",
       "      <td>2175.0</td>\n",
       "    </tr>\n",
       "  </tbody>\n",
       "</table>\n",
       "</div>"
      ],
      "text/plain": [
       "  Customer ID  Customer tenure in month  Total Data Consumption  \\\n",
       "0     ADF0039                      4.10                  1.4951   \n",
       "1     ADF0041                     43.87                  1.0244   \n",
       "2     ADF0051                     79.50                  6.0898   \n",
       "3     ADF0059                     53.80                  3.3447   \n",
       "4     ADF0060                     72.50             673204.0342   \n",
       "\n",
       "   Total SMS Spend  Total Spend in Months 1 and 2 of 2017  Total Unique Calls  \\\n",
       "0             0.00                                76.7140                14.0   \n",
       "1             4.14                                98.8904                27.0   \n",
       "2             3.51                               372.6300               119.0   \n",
       "3             6.85                               530.2000                69.0   \n",
       "4             6.99                               554.1300                33.0   \n",
       "\n",
       "   network_age  \n",
       "0        123.0  \n",
       "1       1316.0  \n",
       "2       2385.0  \n",
       "3       1614.0  \n",
       "4       2175.0  "
      ]
     },
     "execution_count": 15,
     "metadata": {},
     "output_type": "execute_result"
    }
   ],
   "source": [
    "all_data.head(5)"
   ]
  },
  {
   "cell_type": "code",
   "execution_count": 16,
   "metadata": {},
   "outputs": [],
   "source": [
    "#cross features\n",
    "all_data['cross_expenditure'] = all_data['Total SMS Spend'] * all_data['Total Spend in Months 1 and 2 of 2017']"
   ]
  },
  {
   "cell_type": "code",
   "execution_count": 17,
   "metadata": {},
   "outputs": [
    {
     "data": {
      "text/html": [
       "<div>\n",
       "<style scoped>\n",
       "    .dataframe tbody tr th:only-of-type {\n",
       "        vertical-align: middle;\n",
       "    }\n",
       "\n",
       "    .dataframe tbody tr th {\n",
       "        vertical-align: top;\n",
       "    }\n",
       "\n",
       "    .dataframe thead th {\n",
       "        text-align: right;\n",
       "    }\n",
       "</style>\n",
       "<table border=\"1\" class=\"dataframe\">\n",
       "  <thead>\n",
       "    <tr style=\"text-align: right;\">\n",
       "      <th></th>\n",
       "      <th>Customer ID</th>\n",
       "      <th>Customer tenure in month</th>\n",
       "      <th>Total Data Consumption</th>\n",
       "      <th>Total SMS Spend</th>\n",
       "      <th>Total Spend in Months 1 and 2 of 2017</th>\n",
       "      <th>Total Unique Calls</th>\n",
       "      <th>network_age</th>\n",
       "      <th>cross_expenditure</th>\n",
       "    </tr>\n",
       "  </thead>\n",
       "  <tbody>\n",
       "    <tr>\n",
       "      <th>0</th>\n",
       "      <td>ADF0039</td>\n",
       "      <td>4.10</td>\n",
       "      <td>1.4951</td>\n",
       "      <td>0.00</td>\n",
       "      <td>76.7140</td>\n",
       "      <td>14.0</td>\n",
       "      <td>123.0</td>\n",
       "      <td>0.000000</td>\n",
       "    </tr>\n",
       "    <tr>\n",
       "      <th>1</th>\n",
       "      <td>ADF0041</td>\n",
       "      <td>43.87</td>\n",
       "      <td>1.0244</td>\n",
       "      <td>4.14</td>\n",
       "      <td>98.8904</td>\n",
       "      <td>27.0</td>\n",
       "      <td>1316.0</td>\n",
       "      <td>409.406256</td>\n",
       "    </tr>\n",
       "    <tr>\n",
       "      <th>2</th>\n",
       "      <td>ADF0051</td>\n",
       "      <td>79.50</td>\n",
       "      <td>6.0898</td>\n",
       "      <td>3.51</td>\n",
       "      <td>372.6300</td>\n",
       "      <td>119.0</td>\n",
       "      <td>2385.0</td>\n",
       "      <td>1307.931300</td>\n",
       "    </tr>\n",
       "    <tr>\n",
       "      <th>3</th>\n",
       "      <td>ADF0059</td>\n",
       "      <td>53.80</td>\n",
       "      <td>3.3447</td>\n",
       "      <td>6.85</td>\n",
       "      <td>530.2000</td>\n",
       "      <td>69.0</td>\n",
       "      <td>1614.0</td>\n",
       "      <td>3631.870000</td>\n",
       "    </tr>\n",
       "    <tr>\n",
       "      <th>4</th>\n",
       "      <td>ADF0060</td>\n",
       "      <td>72.50</td>\n",
       "      <td>673204.0342</td>\n",
       "      <td>6.99</td>\n",
       "      <td>554.1300</td>\n",
       "      <td>33.0</td>\n",
       "      <td>2175.0</td>\n",
       "      <td>3873.368700</td>\n",
       "    </tr>\n",
       "  </tbody>\n",
       "</table>\n",
       "</div>"
      ],
      "text/plain": [
       "  Customer ID  Customer tenure in month  Total Data Consumption  \\\n",
       "0     ADF0039                      4.10                  1.4951   \n",
       "1     ADF0041                     43.87                  1.0244   \n",
       "2     ADF0051                     79.50                  6.0898   \n",
       "3     ADF0059                     53.80                  3.3447   \n",
       "4     ADF0060                     72.50             673204.0342   \n",
       "\n",
       "   Total SMS Spend  Total Spend in Months 1 and 2 of 2017  Total Unique Calls  \\\n",
       "0             0.00                                76.7140                14.0   \n",
       "1             4.14                                98.8904                27.0   \n",
       "2             3.51                               372.6300               119.0   \n",
       "3             6.85                               530.2000                69.0   \n",
       "4             6.99                               554.1300                33.0   \n",
       "\n",
       "   network_age  cross_expenditure  \n",
       "0        123.0           0.000000  \n",
       "1       1316.0         409.406256  \n",
       "2       2385.0        1307.931300  \n",
       "3       1614.0        3631.870000  \n",
       "4       2175.0        3873.368700  "
      ]
     },
     "execution_count": 17,
     "metadata": {},
     "output_type": "execute_result"
    }
   ],
   "source": [
    "all_data.head(5)"
   ]
  },
  {
   "cell_type": "markdown",
   "metadata": {},
   "source": [
    "# I will love to crosscheck the corr between the whole data and the new cross data"
   ]
  },
  {
   "cell_type": "code",
   "execution_count": 18,
   "metadata": {},
   "outputs": [
    {
     "data": {
      "image/png": "[encoded data removed]",
      "text/plain": [
       "<Figure size 1008x864 with 2 Axes>"
      ]
     },
     "metadata": {},
     "output_type": "display_data"
    }
   ],
   "source": [
    "#correlation heatmap of new dataset\n",
    "def correlation_heatmap(df):\n",
    "    _ , ax = plt.subplots(figsize =(14, 12))\n",
    "    colormap = sns.diverging_palette(220, 10, as_cmap = True)\n",
    "    \n",
    "    _ = sns.heatmap(\n",
    "        df.corr(), \n",
    "        cmap = colormap,\n",
    "        square=True, \n",
    "        cbar_kws={'shrink':.9 }, \n",
    "        ax=ax,\n",
    "        annot=True, \n",
    "        linewidths=0.1,vmax=1.0, linecolor='white',\n",
    "        annot_kws={'fontsize':12 }\n",
    "    )\n",
    "    \n",
    "    plt.title('Pearson Correlation of Features', y=1.05, size=15)\n",
    "\n",
    "correlation_heatmap(all_data)"
   ]
  },
  {
   "cell_type": "code",
   "execution_count": 19,
   "metadata": {},
   "outputs": [
    {
     "name": "stdout",
     "output_type": "stream",
     "text": [
      "All data size: (2001, 2007)\n"
     ]
    }
   ],
   "source": [
    "X = pd.get_dummies(all_data)\n",
    "print('All data size: ' + str(X.shape))\n"
   ]
  },
  {
   "cell_type": "code",
   "execution_count": 20,
   "metadata": {},
   "outputs": [
    {
     "name": "stdout",
     "output_type": "stream",
     "text": [
      "Train size: (1401, 2007)\n",
      "Test size: (600, 2007)\n"
     ]
    }
   ],
   "source": [
    "import random\n",
    "#Lets get the new train and test set\n",
    "train = X[:ntrain]\n",
    "test = X[ntrain:]\n",
    "\n",
    "#Let's shuffle our train set and labels\n",
    "random_indx = np.arange(ntrain)\n",
    "np.random.shuffle(random_indx)\n",
    "\n",
    "train = np.array(train)[random_indx]\n",
    "y_train = y_train[random_indx]\n",
    "\n",
    "#Get the columns for importance plot\n",
    "#cols_4_imp = train.columns\n",
    "\n",
    "print('Train size: ' + str(train.shape))\n",
    "print('Test size: ' + str(test.shape))"
   ]
  },
  {
   "cell_type": "code",
   "execution_count": 21,
   "metadata": {},
   "outputs": [],
   "source": [
    "#machine learning models\n",
    "from sklearn.preprocessing import StandardScaler,Imputer\n",
    "from sklearn.model_selection import train_test_split,KFold,cross_val_score\n",
    "from sklearn.metrics import mean_absolute_error\n",
    "from sklearn.preprocessing import RobustScaler\n",
    "from sklearn.ensemble import RandomForestRegressor\n",
    "from sklearn.linear_model import LinearRegression, LogisticRegression\n",
    "\n",
    "\n"
   ]
  },
  {
   "cell_type": "code",
   "execution_count": 22,
   "metadata": {},
   "outputs": [],
   "source": [
    "SC = StandardScaler()\n",
    "train = SC.fit_transform(train)\n",
    "test = SC.fit_transform(test)\n"
   ]
  },
  {
   "cell_type": "code",
   "execution_count": 23,
   "metadata": {},
   "outputs": [],
   "source": [
    "lr = LogisticRegression()\n"
   ]
  },
  {
   "cell_type": "code",
   "execution_count": 25,
   "metadata": {},
   "outputs": [
    {
     "data": {
      "text/plain": [
       "LogisticRegression(C=1.0, class_weight=None, dual=False, fit_intercept=True,\n",
       "          intercept_scaling=1, max_iter=100, multi_class='ovr', n_jobs=1,\n",
       "          penalty='l2', random_state=None, solver='liblinear', tol=0.0001,\n",
       "          verbose=0, warm_start=False)"
      ]
     },
     "execution_count": 25,
     "metadata": {},
     "output_type": "execute_result"
    }
   ],
   "source": [
    "lr.fit(train,y_train)"
   ]
  },
  {
   "cell_type": "code",
   "execution_count": 26,
   "metadata": {},
   "outputs": [],
   "source": [
    "pred_y = lr.predict(test)"
   ]
  },
  {
   "cell_type": "code",
   "execution_count": 27,
   "metadata": {},
   "outputs": [
    {
     "data": {
      "text/plain": [
       "(600,)"
      ]
     },
     "execution_count": 27,
     "metadata": {},
     "output_type": "execute_result"
    }
   ],
   "source": [
    "pred_y.shape"
   ]
  },
  {
   "cell_type": "code",
   "execution_count": 107,
   "metadata": {},
   "outputs": [],
   "source": [
    "submit =pd.read_csv(\"//root//Downloads//churn//submission.csv\")"
   ]
  },
  {
   "cell_type": "code",
   "execution_count": 108,
   "metadata": {},
   "outputs": [],
   "source": [
    "pred = pd.DataFrame(pred_y)"
   ]
  },
  {
   "cell_type": "code",
   "execution_count": 109,
   "metadata": {},
   "outputs": [
    {
     "data": {
      "text/html": [
       "<div>\n",
       "<style scoped>\n",
       "    .dataframe tbody tr th:only-of-type {\n",
       "        vertical-align: middle;\n",
       "    }\n",
       "\n",
       "    .dataframe tbody tr th {\n",
       "        vertical-align: top;\n",
       "    }\n",
       "\n",
       "    .dataframe thead th {\n",
       "        text-align: right;\n",
       "    }\n",
       "</style>\n",
       "<table border=\"1\" class=\"dataframe\">\n",
       "  <thead>\n",
       "    <tr style=\"text-align: right;\">\n",
       "      <th></th>\n",
       "      <th>0</th>\n",
       "    </tr>\n",
       "  </thead>\n",
       "  <tbody>\n",
       "    <tr>\n",
       "      <th>0</th>\n",
       "      <td>1.0</td>\n",
       "    </tr>\n",
       "    <tr>\n",
       "      <th>1</th>\n",
       "      <td>1.0</td>\n",
       "    </tr>\n",
       "    <tr>\n",
       "      <th>2</th>\n",
       "      <td>1.0</td>\n",
       "    </tr>\n",
       "    <tr>\n",
       "      <th>3</th>\n",
       "      <td>1.0</td>\n",
       "    </tr>\n",
       "    <tr>\n",
       "      <th>4</th>\n",
       "      <td>1.0</td>\n",
       "    </tr>\n",
       "    <tr>\n",
       "      <th>5</th>\n",
       "      <td>1.0</td>\n",
       "    </tr>\n",
       "    <tr>\n",
       "      <th>6</th>\n",
       "      <td>1.0</td>\n",
       "    </tr>\n",
       "    <tr>\n",
       "      <th>7</th>\n",
       "      <td>1.0</td>\n",
       "    </tr>\n",
       "    <tr>\n",
       "      <th>8</th>\n",
       "      <td>1.0</td>\n",
       "    </tr>\n",
       "    <tr>\n",
       "      <th>9</th>\n",
       "      <td>1.0</td>\n",
       "    </tr>\n",
       "    <tr>\n",
       "      <th>10</th>\n",
       "      <td>0.0</td>\n",
       "    </tr>\n",
       "    <tr>\n",
       "      <th>11</th>\n",
       "      <td>1.0</td>\n",
       "    </tr>\n",
       "    <tr>\n",
       "      <th>12</th>\n",
       "      <td>1.0</td>\n",
       "    </tr>\n",
       "    <tr>\n",
       "      <th>13</th>\n",
       "      <td>1.0</td>\n",
       "    </tr>\n",
       "    <tr>\n",
       "      <th>14</th>\n",
       "      <td>1.0</td>\n",
       "    </tr>\n",
       "    <tr>\n",
       "      <th>15</th>\n",
       "      <td>1.0</td>\n",
       "    </tr>\n",
       "    <tr>\n",
       "      <th>16</th>\n",
       "      <td>1.0</td>\n",
       "    </tr>\n",
       "    <tr>\n",
       "      <th>17</th>\n",
       "      <td>1.0</td>\n",
       "    </tr>\n",
       "    <tr>\n",
       "      <th>18</th>\n",
       "      <td>1.0</td>\n",
       "    </tr>\n",
       "    <tr>\n",
       "      <th>19</th>\n",
       "      <td>1.0</td>\n",
       "    </tr>\n",
       "    <tr>\n",
       "      <th>20</th>\n",
       "      <td>0.0</td>\n",
       "    </tr>\n",
       "    <tr>\n",
       "      <th>21</th>\n",
       "      <td>1.0</td>\n",
       "    </tr>\n",
       "    <tr>\n",
       "      <th>22</th>\n",
       "      <td>1.0</td>\n",
       "    </tr>\n",
       "    <tr>\n",
       "      <th>23</th>\n",
       "      <td>0.0</td>\n",
       "    </tr>\n",
       "    <tr>\n",
       "      <th>24</th>\n",
       "      <td>1.0</td>\n",
       "    </tr>\n",
       "    <tr>\n",
       "      <th>25</th>\n",
       "      <td>1.0</td>\n",
       "    </tr>\n",
       "    <tr>\n",
       "      <th>26</th>\n",
       "      <td>1.0</td>\n",
       "    </tr>\n",
       "    <tr>\n",
       "      <th>27</th>\n",
       "      <td>1.0</td>\n",
       "    </tr>\n",
       "    <tr>\n",
       "      <th>28</th>\n",
       "      <td>1.0</td>\n",
       "    </tr>\n",
       "    <tr>\n",
       "      <th>29</th>\n",
       "      <td>1.0</td>\n",
       "    </tr>\n",
       "    <tr>\n",
       "      <th>...</th>\n",
       "      <td>...</td>\n",
       "    </tr>\n",
       "    <tr>\n",
       "      <th>570</th>\n",
       "      <td>1.0</td>\n",
       "    </tr>\n",
       "    <tr>\n",
       "      <th>571</th>\n",
       "      <td>1.0</td>\n",
       "    </tr>\n",
       "    <tr>\n",
       "      <th>572</th>\n",
       "      <td>0.0</td>\n",
       "    </tr>\n",
       "    <tr>\n",
       "      <th>573</th>\n",
       "      <td>0.0</td>\n",
       "    </tr>\n",
       "    <tr>\n",
       "      <th>574</th>\n",
       "      <td>1.0</td>\n",
       "    </tr>\n",
       "    <tr>\n",
       "      <th>575</th>\n",
       "      <td>1.0</td>\n",
       "    </tr>\n",
       "    <tr>\n",
       "      <th>576</th>\n",
       "      <td>1.0</td>\n",
       "    </tr>\n",
       "    <tr>\n",
       "      <th>577</th>\n",
       "      <td>0.0</td>\n",
       "    </tr>\n",
       "    <tr>\n",
       "      <th>578</th>\n",
       "      <td>0.0</td>\n",
       "    </tr>\n",
       "    <tr>\n",
       "      <th>579</th>\n",
       "      <td>1.0</td>\n",
       "    </tr>\n",
       "    <tr>\n",
       "      <th>580</th>\n",
       "      <td>1.0</td>\n",
       "    </tr>\n",
       "    <tr>\n",
       "      <th>581</th>\n",
       "      <td>1.0</td>\n",
       "    </tr>\n",
       "    <tr>\n",
       "      <th>582</th>\n",
       "      <td>1.0</td>\n",
       "    </tr>\n",
       "    <tr>\n",
       "      <th>583</th>\n",
       "      <td>1.0</td>\n",
       "    </tr>\n",
       "    <tr>\n",
       "      <th>584</th>\n",
       "      <td>1.0</td>\n",
       "    </tr>\n",
       "    <tr>\n",
       "      <th>585</th>\n",
       "      <td>1.0</td>\n",
       "    </tr>\n",
       "    <tr>\n",
       "      <th>586</th>\n",
       "      <td>1.0</td>\n",
       "    </tr>\n",
       "    <tr>\n",
       "      <th>587</th>\n",
       "      <td>0.0</td>\n",
       "    </tr>\n",
       "    <tr>\n",
       "      <th>588</th>\n",
       "      <td>1.0</td>\n",
       "    </tr>\n",
       "    <tr>\n",
       "      <th>589</th>\n",
       "      <td>0.0</td>\n",
       "    </tr>\n",
       "    <tr>\n",
       "      <th>590</th>\n",
       "      <td>1.0</td>\n",
       "    </tr>\n",
       "    <tr>\n",
       "      <th>591</th>\n",
       "      <td>1.0</td>\n",
       "    </tr>\n",
       "    <tr>\n",
       "      <th>592</th>\n",
       "      <td>0.0</td>\n",
       "    </tr>\n",
       "    <tr>\n",
       "      <th>593</th>\n",
       "      <td>1.0</td>\n",
       "    </tr>\n",
       "    <tr>\n",
       "      <th>594</th>\n",
       "      <td>1.0</td>\n",
       "    </tr>\n",
       "    <tr>\n",
       "      <th>595</th>\n",
       "      <td>0.0</td>\n",
       "    </tr>\n",
       "    <tr>\n",
       "      <th>596</th>\n",
       "      <td>1.0</td>\n",
       "    </tr>\n",
       "    <tr>\n",
       "      <th>597</th>\n",
       "      <td>1.0</td>\n",
       "    </tr>\n",
       "    <tr>\n",
       "      <th>598</th>\n",
       "      <td>1.0</td>\n",
       "    </tr>\n",
       "    <tr>\n",
       "      <th>599</th>\n",
       "      <td>1.0</td>\n",
       "    </tr>\n",
       "  </tbody>\n",
       "</table>\n",
       "<p>600 rows × 1 columns</p>\n",
       "</div>"
      ],
      "text/plain": [
       "       0\n",
       "0    1.0\n",
       "1    1.0\n",
       "2    1.0\n",
       "3    1.0\n",
       "4    1.0\n",
       "5    1.0\n",
       "6    1.0\n",
       "7    1.0\n",
       "8    1.0\n",
       "9    1.0\n",
       "10   0.0\n",
       "11   1.0\n",
       "12   1.0\n",
       "13   1.0\n",
       "14   1.0\n",
       "15   1.0\n",
       "16   1.0\n",
       "17   1.0\n",
       "18   1.0\n",
       "19   1.0\n",
       "20   0.0\n",
       "21   1.0\n",
       "22   1.0\n",
       "23   0.0\n",
       "24   1.0\n",
       "25   1.0\n",
       "26   1.0\n",
       "27   1.0\n",
       "28   1.0\n",
       "29   1.0\n",
       "..   ...\n",
       "570  1.0\n",
       "571  1.0\n",
       "572  0.0\n",
       "573  0.0\n",
       "574  1.0\n",
       "575  1.0\n",
       "576  1.0\n",
       "577  0.0\n",
       "578  0.0\n",
       "579  1.0\n",
       "580  1.0\n",
       "581  1.0\n",
       "582  1.0\n",
       "583  1.0\n",
       "584  1.0\n",
       "585  1.0\n",
       "586  1.0\n",
       "587  0.0\n",
       "588  1.0\n",
       "589  0.0\n",
       "590  1.0\n",
       "591  1.0\n",
       "592  0.0\n",
       "593  1.0\n",
       "594  1.0\n",
       "595  0.0\n",
       "596  1.0\n",
       "597  1.0\n",
       "598  1.0\n",
       "599  1.0\n",
       "\n",
       "[600 rows x 1 columns]"
      ]
     },
     "execution_count": 109,
     "metadata": {},
     "output_type": "execute_result"
    }
   ],
   "source": [
    "pred"
   ]
  },
  {
   "cell_type": "code",
   "execution_count": 110,
   "metadata": {},
   "outputs": [
    {
     "data": {
      "text/plain": [
       "(600,)"
      ]
     },
     "execution_count": 110,
     "metadata": {},
     "output_type": "execute_result"
    }
   ],
   "source": [
    "submit['Customer ID'].shape"
   ]
  },
  {
   "cell_type": "code",
   "execution_count": 111,
   "metadata": {},
   "outputs": [
    {
     "data": {
      "text/plain": [
       "(600, 1)"
      ]
     },
     "execution_count": 111,
     "metadata": {},
     "output_type": "execute_result"
    }
   ],
   "source": [
    "pred.shape"
   ]
  },
  {
   "cell_type": "code",
   "execution_count": 112,
   "metadata": {},
   "outputs": [],
   "source": [
    "submit['Churn Status'] = pred"
   ]
  },
  {
   "cell_type": "code",
   "execution_count": 113,
   "metadata": {},
   "outputs": [],
   "source": [
    "submit.to_csv(\"//root//Downloads//churn//predictions.csv\")"
   ]
  },
  {
   "cell_type": "code",
   "execution_count": 87,
   "metadata": {},
   "outputs": [],
   "source": [
    "s = pd.read_csv(\"//root//Downloads//churn//predictions.csv\")"
   ]
  },
  {
   "cell_type": "code",
   "execution_count": null,
   "metadata": {},
   "outputs": [],
   "source": [
    "def drop():\n",
    "    col = ['Unnamed: 0']\n",
    "    s.drop(col, axis= 1, inplace= True)\n",
    "\n",
    "print(drop())"
   ]
  },
  {
   "cell_type": "code",
   "execution_count": 114,
   "metadata": {},
   "outputs": [],
   "source": [
    "submit =  submit[['Customer ID', 'Churn Status']]"
   ]
  },
  {
   "cell_type": "code",
   "execution_count": 116,
   "metadata": {},
   "outputs": [],
   "source": [
    "submit.to_csv(\"//root//Downloads//churn//predictions.csv\")"
   ]
  },
  {
   "cell_type": "code",
   "execution_count": null,
   "metadata": {},
   "outputs": [],
   "source": []
  }
 ],
 "metadata": {
  "kernelspec": {
   "display_name": "Python 3",
   "language": "python",
   "name": "python3"
  },
  "language_info": {
   "codemirror_mode": {
    "name": "ipython",
    "version": 3
   },
   "file_extension": ".py",
   "mimetype": "text/x-python",
   "name": "python",
   "nbconvert_exporter": "python",
   "pygments_lexer": "ipython3",
   "version": "3.6.5"
  }
 },
 "nbformat": 4,
 "nbformat_minor": 2
}
